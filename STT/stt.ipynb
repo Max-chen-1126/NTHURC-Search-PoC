{
 "cells": [
  {
   "cell_type": "markdown",
   "metadata": {},
   "source": [
    "## Test Chirp2 Speech to text API"
   ]
  },
  {
   "cell_type": "code",
   "execution_count": 3,
   "metadata": {},
   "outputs": [
    {
     "name": "stdout",
     "output_type": "stream",
     "text": [
      "Requirement already satisfied: google-cloud-speech in /Users/mai/miniforge3/envs/GooglePoCEnv/lib/python3.10/site-packages (2.26.0)\n",
      "Collecting google-cloud-speech\n",
      "  Downloading google_cloud_speech-2.27.0-py2.py3-none-any.whl.metadata (5.2 kB)\n",
      "Requirement already satisfied: google-api-core!=2.0.*,!=2.1.*,!=2.10.*,!=2.2.*,!=2.3.*,!=2.4.*,!=2.5.*,!=2.6.*,!=2.7.*,!=2.8.*,!=2.9.*,<3.0.0dev,>=1.34.1 in /Users/mai/miniforge3/envs/GooglePoCEnv/lib/python3.10/site-packages (from google-api-core[grpc]!=2.0.*,!=2.1.*,!=2.10.*,!=2.2.*,!=2.3.*,!=2.4.*,!=2.5.*,!=2.6.*,!=2.7.*,!=2.8.*,!=2.9.*,<3.0.0dev,>=1.34.1->google-cloud-speech) (2.17.1)\n",
      "Requirement already satisfied: google-auth!=2.24.0,!=2.25.0,<3.0.0dev,>=2.14.1 in /Users/mai/miniforge3/envs/GooglePoCEnv/lib/python3.10/site-packages (from google-cloud-speech) (2.29.0)\n",
      "Requirement already satisfied: proto-plus<2.0.0dev,>=1.22.3 in /Users/mai/miniforge3/envs/GooglePoCEnv/lib/python3.10/site-packages (from google-cloud-speech) (1.23.0)\n",
      "Requirement already satisfied: protobuf!=4.21.0,!=4.21.1,!=4.21.2,!=4.21.3,!=4.21.4,!=4.21.5,<6.0.0dev,>=3.20.2 in /Users/mai/miniforge3/envs/GooglePoCEnv/lib/python3.10/site-packages (from google-cloud-speech) (4.25.3)\n",
      "Requirement already satisfied: googleapis-common-protos<2.0.dev0,>=1.56.2 in /Users/mai/miniforge3/envs/GooglePoCEnv/lib/python3.10/site-packages (from google-api-core!=2.0.*,!=2.1.*,!=2.10.*,!=2.2.*,!=2.3.*,!=2.4.*,!=2.5.*,!=2.6.*,!=2.7.*,!=2.8.*,!=2.9.*,<3.0.0dev,>=1.34.1->google-api-core[grpc]!=2.0.*,!=2.1.*,!=2.10.*,!=2.2.*,!=2.3.*,!=2.4.*,!=2.5.*,!=2.6.*,!=2.7.*,!=2.8.*,!=2.9.*,<3.0.0dev,>=1.34.1->google-cloud-speech) (1.63.0)\n",
      "Requirement already satisfied: requests<3.0.0.dev0,>=2.18.0 in /Users/mai/miniforge3/envs/GooglePoCEnv/lib/python3.10/site-packages (from google-api-core!=2.0.*,!=2.1.*,!=2.10.*,!=2.2.*,!=2.3.*,!=2.4.*,!=2.5.*,!=2.6.*,!=2.7.*,!=2.8.*,!=2.9.*,<3.0.0dev,>=1.34.1->google-api-core[grpc]!=2.0.*,!=2.1.*,!=2.10.*,!=2.2.*,!=2.3.*,!=2.4.*,!=2.5.*,!=2.6.*,!=2.7.*,!=2.8.*,!=2.9.*,<3.0.0dev,>=1.34.1->google-cloud-speech) (2.32.2)\n",
      "Requirement already satisfied: grpcio<2.0dev,>=1.33.2 in /Users/mai/miniforge3/envs/GooglePoCEnv/lib/python3.10/site-packages (from google-api-core[grpc]!=2.0.*,!=2.1.*,!=2.10.*,!=2.2.*,!=2.3.*,!=2.4.*,!=2.5.*,!=2.6.*,!=2.7.*,!=2.8.*,!=2.9.*,<3.0.0dev,>=1.34.1->google-cloud-speech) (1.64.0)\n",
      "Requirement already satisfied: grpcio-status<2.0.dev0,>=1.33.2 in /Users/mai/miniforge3/envs/GooglePoCEnv/lib/python3.10/site-packages (from google-api-core[grpc]!=2.0.*,!=2.1.*,!=2.10.*,!=2.2.*,!=2.3.*,!=2.4.*,!=2.5.*,!=2.6.*,!=2.7.*,!=2.8.*,!=2.9.*,<3.0.0dev,>=1.34.1->google-cloud-speech) (1.62.2)\n",
      "Requirement already satisfied: cachetools<6.0,>=2.0.0 in /Users/mai/miniforge3/envs/GooglePoCEnv/lib/python3.10/site-packages (from google-auth!=2.24.0,!=2.25.0,<3.0.0dev,>=2.14.1->google-cloud-speech) (5.3.3)\n",
      "Requirement already satisfied: pyasn1-modules>=0.2.1 in /Users/mai/miniforge3/envs/GooglePoCEnv/lib/python3.10/site-packages (from google-auth!=2.24.0,!=2.25.0,<3.0.0dev,>=2.14.1->google-cloud-speech) (0.4.0)\n",
      "Requirement already satisfied: rsa<5,>=3.1.4 in /Users/mai/miniforge3/envs/GooglePoCEnv/lib/python3.10/site-packages (from google-auth!=2.24.0,!=2.25.0,<3.0.0dev,>=2.14.1->google-cloud-speech) (4.9)\n",
      "Requirement already satisfied: pyasn1<0.7.0,>=0.4.6 in /Users/mai/miniforge3/envs/GooglePoCEnv/lib/python3.10/site-packages (from pyasn1-modules>=0.2.1->google-auth!=2.24.0,!=2.25.0,<3.0.0dev,>=2.14.1->google-cloud-speech) (0.6.0)\n",
      "Requirement already satisfied: charset-normalizer<4,>=2 in /Users/mai/miniforge3/envs/GooglePoCEnv/lib/python3.10/site-packages (from requests<3.0.0.dev0,>=2.18.0->google-api-core!=2.0.*,!=2.1.*,!=2.10.*,!=2.2.*,!=2.3.*,!=2.4.*,!=2.5.*,!=2.6.*,!=2.7.*,!=2.8.*,!=2.9.*,<3.0.0dev,>=1.34.1->google-api-core[grpc]!=2.0.*,!=2.1.*,!=2.10.*,!=2.2.*,!=2.3.*,!=2.4.*,!=2.5.*,!=2.6.*,!=2.7.*,!=2.8.*,!=2.9.*,<3.0.0dev,>=1.34.1->google-cloud-speech) (3.3.2)\n",
      "Requirement already satisfied: idna<4,>=2.5 in /Users/mai/miniforge3/envs/GooglePoCEnv/lib/python3.10/site-packages (from requests<3.0.0.dev0,>=2.18.0->google-api-core!=2.0.*,!=2.1.*,!=2.10.*,!=2.2.*,!=2.3.*,!=2.4.*,!=2.5.*,!=2.6.*,!=2.7.*,!=2.8.*,!=2.9.*,<3.0.0dev,>=1.34.1->google-api-core[grpc]!=2.0.*,!=2.1.*,!=2.10.*,!=2.2.*,!=2.3.*,!=2.4.*,!=2.5.*,!=2.6.*,!=2.7.*,!=2.8.*,!=2.9.*,<3.0.0dev,>=1.34.1->google-cloud-speech) (3.7)\n",
      "Requirement already satisfied: urllib3<3,>=1.21.1 in /Users/mai/miniforge3/envs/GooglePoCEnv/lib/python3.10/site-packages (from requests<3.0.0.dev0,>=2.18.0->google-api-core!=2.0.*,!=2.1.*,!=2.10.*,!=2.2.*,!=2.3.*,!=2.4.*,!=2.5.*,!=2.6.*,!=2.7.*,!=2.8.*,!=2.9.*,<3.0.0dev,>=1.34.1->google-api-core[grpc]!=2.0.*,!=2.1.*,!=2.10.*,!=2.2.*,!=2.3.*,!=2.4.*,!=2.5.*,!=2.6.*,!=2.7.*,!=2.8.*,!=2.9.*,<3.0.0dev,>=1.34.1->google-cloud-speech) (2.0.6)\n",
      "Requirement already satisfied: certifi>=2017.4.17 in /Users/mai/miniforge3/envs/GooglePoCEnv/lib/python3.10/site-packages (from requests<3.0.0.dev0,>=2.18.0->google-api-core!=2.0.*,!=2.1.*,!=2.10.*,!=2.2.*,!=2.3.*,!=2.4.*,!=2.5.*,!=2.6.*,!=2.7.*,!=2.8.*,!=2.9.*,<3.0.0dev,>=1.34.1->google-api-core[grpc]!=2.0.*,!=2.1.*,!=2.10.*,!=2.2.*,!=2.3.*,!=2.4.*,!=2.5.*,!=2.6.*,!=2.7.*,!=2.8.*,!=2.9.*,<3.0.0dev,>=1.34.1->google-cloud-speech) (2024.2.2)\n",
      "Downloading google_cloud_speech-2.27.0-py2.py3-none-any.whl (292 kB)\n",
      "\u001b[2K   \u001b[90m━━━━━━━━━━━━━━━━━━━━━━━━━━━━━━━━━━━━━━━━\u001b[0m \u001b[32m292.4/292.4 kB\u001b[0m \u001b[31m1.8 MB/s\u001b[0m eta \u001b[36m0:00:00\u001b[0ma \u001b[36m0:00:01\u001b[0mm\n",
      "\u001b[?25hInstalling collected packages: google-cloud-speech\n",
      "  Attempting uninstall: google-cloud-speech\n",
      "    Found existing installation: google-cloud-speech 2.26.0\n",
      "    Uninstalling google-cloud-speech-2.26.0:\n",
      "      Successfully uninstalled google-cloud-speech-2.26.0\n",
      "Successfully installed google-cloud-speech-2.27.0\n"
     ]
    }
   ],
   "source": [
    "! pip install --upgrade google-cloud-speech"
   ]
  },
  {
   "cell_type": "code",
   "execution_count": 1,
   "metadata": {},
   "outputs": [
    {
     "name": "stdout",
     "output_type": "stream",
     "text": [
      "Waiting for operation to complete...\n",
      "results {\n",
      "  key: \"gs://test_stt_mp4_to_text/test_audio1.mp3\"\n",
      "  value {\n",
      "    error {\n",
      "      code: 13\n",
      "      message: \"An internal error occurred.\"\n",
      "    }\n",
      "    metadata {\n",
      "      total_billed_duration {\n",
      "      }\n",
      "    }\n",
      "    cloud_storage_result {\n",
      "      uri: \"gs://test_stt_mp4_to_text/transcripts/test_audio1_transcript_66c8deaf-0000-2469-883c-883d24f1306c.json\"\n",
      "    }\n",
      "    uri: \"gs://test_stt_mp4_to_text/transcripts/test_audio1_transcript_66c8deaf-0000-2469-883c-883d24f1306c.json\"\n",
      "  }\n",
      "}\n",
      "total_billed_duration {\n",
      "}\n",
      "\n"
     ]
    }
   ],
   "source": [
    "# Test Chirp2 Speech to text API\n",
    "import os\n",
    "from google.api_core.client_options import ClientOptions\n",
    "from google.cloud.speech_v2 import SpeechClient\n",
    "from google.cloud.speech_v2.types import cloud_speech\n",
    "\n",
    "MAX_AUDIO_LENGTH_SECS = 8 * 60 * 60\n",
    "\n",
    "\n",
    "def run_batch_recognize():\n",
    "    # Instantiates a client.\n",
    "    client = SpeechClient(\n",
    "        client_options=ClientOptions(\n",
    "            api_endpoint=\"us-central1-speech.googleapis.com\",\n",
    "        ),\n",
    "    )\n",
    "\n",
    "    # The output path of the transcription result.\n",
    "    gcs_output_folder = \"gs://test_stt_mp4_to_text/transcripts\"\n",
    "\n",
    "    # The name of the audio file to transcribe:\n",
    "    audio_gcs_uri = \"gs://test_stt_mp4_to_text/test_audio1.mp3\"\n",
    "\n",
    "    config = cloud_speech.RecognitionConfig(\n",
    "        auto_decoding_config={},\n",
    "        features=cloud_speech.RecognitionFeatures(\n",
    "            enable_automatic_punctuation=True,\n",
    "        ),\n",
    "        model=\"chirp_2\",\n",
    "        language_codes=[\"cmn-Hans-CN\"],\n",
    "    )\n",
    "\n",
    "    output_config = cloud_speech.RecognitionOutputConfig(\n",
    "        gcs_output_config=cloud_speech.GcsOutputConfig(uri=gcs_output_folder),\n",
    "    )\n",
    "\n",
    "    files = [cloud_speech.BatchRecognizeFileMetadata(uri=audio_gcs_uri)]\n",
    "\n",
    "    request = cloud_speech.BatchRecognizeRequest(\n",
    "        recognizer=\"projects/tw-maxchens-sandbox/locations/us-central1/recognizers/chirp2-for-chinese\",\n",
    "        config=config,\n",
    "        files=files,\n",
    "        recognition_output_config=output_config,\n",
    "    )\n",
    "    operation = client.batch_recognize(request=request)\n",
    "\n",
    "    print(\"Waiting for operation to complete...\")\n",
    "    response = operation.result(timeout=3 * MAX_AUDIO_LENGTH_SECS)\n",
    "    print(response)\n",
    "\n",
    "\n",
    "os.environ[\"GOOGLE_APPLICATION_CREDENTIALS\"] = \"/Users/mai/Desktop/GitHub-Repos/GCP_AI/serviceAccount/tw-maxchens-sandbox-ebfac091c020.json\"\n",
    "run_batch_recognize()"
   ]
  }
 ],
 "metadata": {
  "kernelspec": {
   "display_name": "GooglePoCEnv",
   "language": "python",
   "name": "python3"
  },
  "language_info": {
   "codemirror_mode": {
    "name": "ipython",
    "version": 3
   },
   "file_extension": ".py",
   "mimetype": "text/x-python",
   "name": "python",
   "nbconvert_exporter": "python",
   "pygments_lexer": "ipython3",
   "version": "3.10.14"
  }
 },
 "nbformat": 4,
 "nbformat_minor": 2
}
