{
 "cells": [
  {
   "cell_type": "markdown",
   "metadata": {},
   "source": [
    "# 測試多模態模型提取 PDF 中需要欄位："
   ]
  },
  {
   "cell_type": "markdown",
   "metadata": {},
   "source": [
    "### 1. 所得相關資料提取\n",
    "\n",
    "- 目前使用 Vertex AI ( Gemini-1.5-flash 多模態模型 ) 來提取 PDF 中的資料 \n",
    "- 明確定義我們需要的提取的內容\n",
    "- 定義 JSON\n",
    "- 設計 Prompt 並讓 Gemini 理解任務\n",
    "- 去得輸出，並改成可解析的結構"
   ]
  },
  {
   "cell_type": "code",
   "execution_count": 21,
   "metadata": {},
   "outputs": [
    {
     "name": "stdout",
     "output_type": "stream",
     "text": [
      "```jsonl\n",
      "{\"taxYear\": \"110年度\", \"IssuingAuthority\": \"財政部臺北國稅局中正分局\", \"taxpayerName\": \"黃德旺\", \"taxpayerID\": \"R124075657\", \"reportDate\": \"111年07月11日\", \"totalIncome\": \"724,894\"}\n",
      "{\"taxYear\": \"110年度\", \"IssuingAuthority\": \"財政部臺北國稅局中正分局\", \"taxpayerName\": \"黃春萬\", \"taxpayerID\": \"R120335830\", \"reportDate\": \"111年07月11日\", \"totalIncome\": \"107\"}\n",
      "{\"taxYear\": \"110年度\", \"IssuingAuthority\": \"財政部臺北國稅局中正分局\", \"taxpayerName\": \"黃麗珍\", \"taxpayerID\": \"Q221609858\", \"reportDate\": \"111年07月11日\", \"totalIncome\": \"0\"}\n",
      "```\n"
     ]
    }
   ],
   "source": [
    "import vertexai\n",
    "from dotenv import load_dotenv\n",
    "from vertexai.generative_models import GenerativeModel, Part\n",
    "\n",
    "project_id = \"nthurc-aisearch-202406\"\n",
    "\n",
    "load_dotenv()\n",
    "vertexai.init(project=project_id, location=\"us-central1\")\n",
    "\n",
    "model = GenerativeModel(\"gemini-1.5-flash-001\")\n",
    "\n",
    "json_format = '''{\n",
    "  \"taxYear\": 提取此所得資料清單[年度]資訊，位於文檔頂部,\n",
    "  \"IssuingAuthority\": 提取此所得稅[核發單位]文字資訊放於此欄位,\n",
    "  \"taxpayerName\": 提取[所得人姓名],\n",
    "  \"taxpayerID\": 提取所得人[統一編號]，位於文檔中部偏右，是所得人的唯一識別碼,\n",
    "  \"reportDate\": 提取此報告[查調日期]，位於文檔右上角,\n",
    "  \"totalIncome\": 提取此所得人總所得，位於文檔下方有一個[給付總額合計]的資訊,\n",
    "}'''\n",
    "\n",
    "\n",
    "prompt = f\"\"\"\n",
    "You are now a professional PDF document extractor. I will provide you with a property income document from the Ministry of Finance of Taiwan. You will extract the information from each page and organize it into JSONL to return to me. I will clearly define the content I need, and you will extract the value and return it based on the content in the PDF.\n",
    "```json format : {json_format}```\n",
    "Please carefully review the content of each page of the PDF file and extract the information to generate the corresponding JSON response. The value can accept output in Traditional Chinese. Think carefully before outputting and then return the conclusion. Your answer is very important to my career.\n",
    "\n",
    "JSONL :\n",
    "\"\"\"\n",
    "\n",
    "pdf_file_uri = \"gs://nthurc-docai-poc/申請資料-4要件/所得/所得14.pdf\"\n",
    "pdf_file = Part.from_uri(pdf_file_uri, mime_type=\"application/pdf\")\n",
    "contents = [pdf_file, prompt]\n",
    "\n",
    "response = model.generate_content(contents)\n",
    "print(response.text)\n"
   ]
  },
  {
   "cell_type": "code",
   "execution_count": 23,
   "metadata": {},
   "outputs": [
    {
     "name": "stdout",
     "output_type": "stream",
     "text": [
      "```\n",
      "Error decoding JSON: Expecting value: line 1 column 1 (char 0)\n",
      "[{'taxYear': '110年度', 'IssuingAuthority': '財政部臺北國稅局中正分局', 'taxpayerName': '黃德旺', 'taxpayerID': 'R124075657', 'reportDate': '111年07月11日', 'totalIncome': '724,894'}, {'taxYear': '110年度', 'IssuingAuthority': '財政部臺北國稅局中正分局', 'taxpayerName': '黃春萬', 'taxpayerID': 'R120335830', 'reportDate': '111年07月11日', 'totalIncome': '107'}, {'taxYear': '110年度', 'IssuingAuthority': '財政部臺北國稅局中正分局', 'taxpayerName': '黃麗珍', 'taxpayerID': 'Q221609858', 'reportDate': '111年07月11日', 'totalIncome': '0'}]\n"
     ]
    }
   ],
   "source": [
    "import json\n",
    "import re\n",
    "\n",
    "json_strings = re.sub(r'^[^\\{]+', '', response.text).rstrip('`').strip().split('\\n')\n",
    "data = []\n",
    "for json_string in json_strings:\n",
    "    # 檢查是否為空字串，若是則跳過\n",
    "    if not json_string.strip():  # 或 if json_string == '':\n",
    "        continue\n",
    "\n",
    "    try:\n",
    "        data.append(json.loads(json_string))\n",
    "    except json.JSONDecodeError as e:\n",
    "        print(json_string)\n",
    "        print(f\"Error decoding JSON: {e}\")\n",
    "\n",
    "# 現在 `data` 變數包含了轉換後的 JSON 資料\n",
    "print(data)"
   ]
  },
  {
   "cell_type": "markdown",
   "metadata": {},
   "source": [
    "## 2. 戶籍謄本相關資料提取\n",
    "- 跟上一個方法一樣，通過定義需要的欄位後,讓多模態模型進行視覺的資料提取並轉換成文字回傳"
   ]
  },
  {
   "cell_type": "code",
   "execution_count": null,
   "metadata": {},
   "outputs": [],
   "source": []
  }
 ],
 "metadata": {
  "kernelspec": {
   "display_name": "GooglePoCEnv",
   "language": "python",
   "name": "python3"
  },
  "language_info": {
   "codemirror_mode": {
    "name": "ipython",
    "version": 3
   },
   "file_extension": ".py",
   "mimetype": "text/x-python",
   "name": "python",
   "nbconvert_exporter": "python",
   "pygments_lexer": "ipython3",
   "version": "3.10.14"
  }
 },
 "nbformat": 4,
 "nbformat_minor": 2
}
