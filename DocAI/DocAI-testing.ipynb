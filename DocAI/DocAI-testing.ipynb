{
 "cells": [
  {
   "cell_type": "markdown",
   "metadata": {},
   "source": [
    "# 測試多模態模型提取 PDF 中需要欄位："
   ]
  },
  {
   "cell_type": "code",
   "execution_count": 2,
   "metadata": {},
   "outputs": [],
   "source": [
    "# 處理 Text to JSON\n",
    "import json\n",
    "import re\n",
    "import vertexai\n",
    "from dotenv import load_dotenv\n",
    "from vertexai.generative_models import GenerativeModel, Part\n",
    "\n",
    "load_dotenv()\n",
    "project_id = \"nthurc-aisearch-202406\"\n",
    "model_name = \"gemini-1.5-flash-001\"\n",
    "\n",
    "def parse_json_from_text(response_text):\n",
    "    \"\"\"\n",
    "    從包含 JSON 或 JSON Lines 的文字中解析 JSON 資料。\n",
    "\n",
    "    Args:\n",
    "        response_text: 包含 JSON 或 JSON Lines 資料的字串。\n",
    "\n",
    "    Returns:\n",
    "        一個包含解析後的 JSON 資料的列表。\n",
    "    \"\"\"\n",
    "\n",
    "    # 使用正則表達式去除開頭的非 JSON 字元\n",
    "    json_strings = re.sub(r'^[^\\{]+', '', response_text).rstrip('`').strip().split('\\n')\n",
    "\n",
    "    data = []\n",
    "    for json_string in json_strings:\n",
    "        # 檢查是否為空字串，若是則跳過\n",
    "        if not json_string.strip():\n",
    "            continue\n",
    "\n",
    "        try:\n",
    "            data.append(json.loads(json_string))\n",
    "        except json.JSONDecodeError as e:\n",
    "            print(json_string)\n",
    "            print(f\"Error decoding JSON: {e}\")\n",
    "\n",
    "    return data\n",
    "\n",
    "def process_taxpayer_document(project_id, model_name,part, prompt):\n",
    "    vertexai.init(project=project_id, location=\"asia-east1\")\n",
    "    model = GenerativeModel(model_name)\n",
    "    \n",
    "    contents = [part, prompt]\n",
    "    response = model.generate_content(contents)\n",
    "    \n",
    "    print(response.text)\n",
    "    print(\"=============\")\n",
    "    print(\"處理過後的 JSON : \\n\\n\", parse_json_from_text(response.text))\n",
    "    \n",
    "    return parse_json_from_text(response.text)"
   ]
  },
  {
   "cell_type": "markdown",
   "metadata": {},
   "source": [
    "### 1. 所得相關資料提取\n",
    "\n",
    "- 目前使用 Vertex AI ( Gemini-1.5-flash 多模態模型 ) 來提取 PDF 中的資料 \n",
    "- 明確定義我們需要的提取的內容\n",
    "- 定義 JSON\n",
    "- 設計 Prompt 並讓 Gemini 理解任務\n",
    "- 去得輸出，並改成可解析的結構"
   ]
  },
  {
   "cell_type": "markdown",
   "metadata": {},
   "source": [
    "#### 這部分目前需要釐清的問題 : \n",
    "- 電子財產：這部分的檔案是否也要在這一塊進行處理？\n",
    "- 這一部分的檔案除了目前欄位以外是否還有其他欄位有需求"
   ]
  },
  {
   "cell_type": "code",
   "execution_count": 3,
   "metadata": {},
   "outputs": [
    {
     "name": "stdout",
     "output_type": "stream",
     "text": [
      "```json\n",
      "{\"taxYear\": \"110年度\", \"IssuingAuthority\": \"財政部臺北國稅局中正分局\", \"taxpayerName\": \"黃德旺\", \"taxpayerID\": \"R124075657\", \"reportDate\": \"111年07月11日\", \"totalIncome\": \"724,894\"}\n",
      "{\"taxYear\": \"110年度\", \"IssuingAuthority\": \"財政部臺北國稅局中正分局\", \"taxpayerName\": \"黃春萬\", \"taxpayerID\": \"R120335830\", \"reportDate\": \"111年07月11日\", \"totalIncome\": \"107\"}\n",
      "{\"taxYear\": \"110年度\", \"IssuingAuthority\": \"財政部臺北國稅局中正分局\", \"taxpayerName\": \"黃麗珍\", \"taxpayerID\": \"Q221609858\", \"reportDate\": \"111年07月11日\", \"totalIncome\": \"0\"}\n",
      "```\n",
      "=============\n",
      "處理過後的 JSON : \n",
      "\n",
      " [{'taxYear': '110年度', 'IssuingAuthority': '財政部臺北國稅局中正分局', 'taxpayerName': '黃德旺', 'taxpayerID': 'R124075657', 'reportDate': '111年07月11日', 'totalIncome': '724,894'}, {'taxYear': '110年度', 'IssuingAuthority': '財政部臺北國稅局中正分局', 'taxpayerName': '黃春萬', 'taxpayerID': 'R120335830', 'reportDate': '111年07月11日', 'totalIncome': '107'}, {'taxYear': '110年度', 'IssuingAuthority': '財政部臺北國稅局中正分局', 'taxpayerName': '黃麗珍', 'taxpayerID': 'Q221609858', 'reportDate': '111年07月11日', 'totalIncome': '0'}]\n",
      "('```json\\n{\"taxYear\": \"110年度\", \"IssuingAuthority\": \"財政部臺北國稅局中正分局\", \"taxpayerName\": \"黃德旺\", \"taxpayerID\": \"R124075657\", \"reportDate\": \"111年07月11日\", \"totalIncome\": \"724,894\"}\\n{\"taxYear\": \"110年度\", \"IssuingAuthority\": \"財政部臺北國稅局中正分局\", \"taxpayerName\": \"黃春萬\", \"taxpayerID\": \"R120335830\", \"reportDate\": \"111年07月11日\", \"totalIncome\": \"107\"}\\n{\"taxYear\": \"110年度\", \"IssuingAuthority\": \"財政部臺北國稅局中正分局\", \"taxpayerName\": \"黃麗珍\", \"taxpayerID\": \"Q221609858\", \"reportDate\": \"111年07月11日\", \"totalIncome\": \"0\"}\\n```', [{'taxYear': '110年度', 'IssuingAuthority': '財政部臺北國稅局中正分局', 'taxpayerName': '黃德旺', 'taxpayerID': 'R124075657', 'reportDate': '111年07月11日', 'totalIncome': '724,894'}, {'taxYear': '110年度', 'IssuingAuthority': '財政部臺北國稅局中正分局', 'taxpayerName': '黃春萬', 'taxpayerID': 'R120335830', 'reportDate': '111年07月11日', 'totalIncome': '107'}, {'taxYear': '110年度', 'IssuingAuthority': '財政部臺北國稅局中正分局', 'taxpayerName': '黃麗珍', 'taxpayerID': 'Q221609858', 'reportDate': '111年07月11日', 'totalIncome': '0'}])\n"
     ]
    }
   ],
   "source": [
    "json_format = '''{\n",
    "  \"taxYear\": 提取此所得資料清單[年度]資訊，位於文檔頂部,\n",
    "  \"IssuingAuthority\": 提取此所得稅[核發單位]文字資訊放於此欄位,\n",
    "  \"taxpayerName\": 提取[所得人姓名],\n",
    "  \"taxpayerID\": 提取所得人[統一編號]，位於文檔中部偏右，是所得人的唯一識別碼,\n",
    "  \"reportDate\": 提取此報告[查調日期]，位於文檔右上角,\n",
    "  \"totalIncome\": 提取此所得人總所得，位於文檔下方有一個[給付總額合計]的資訊,\n",
    "}'''\n",
    "\n",
    "prompt = f\"\"\"\n",
    "You are now a professional PDF document extractor. I will provide you with a property income document from the Ministry of Finance of Taiwan. You will extract the information from each page and organize it into JSONL to return to me. I will clearly define the content I need, and you will extract the value and return it based on the content in the PDF.\n",
    "```json format : {json_format}```\n",
    "Please carefully review the content of each page of the PDF file and extract the information to generate the corresponding JSON response. The value can accept output in Traditional Chinese. Think carefully before outputting and then return the conclusion. Your answer is very important to my career.\n",
    "\n",
    "JSONL :\n",
    "\"\"\"\n",
    "\n",
    "taxpay_pdf_file_uri = \"gs://nthurc-docai-poc/申請資料-4要件/所得/所得14.pdf\"\n",
    "taxpay_pdf_file = Part.from_uri(taxpay_pdf_file_uri, mime_type=\"application/pdf\")\n",
    "json = process_taxpayer_document(project_id, model_name, taxpay_pdf_file, prompt)\n",
    "print(json)"
   ]
  },
  {
   "cell_type": "markdown",
   "metadata": {},
   "source": [
    "### 電子所得測試"
   ]
  },
  {
   "cell_type": "code",
   "execution_count": 44,
   "metadata": {},
   "outputs": [
    {
     "name": "stdout",
     "output_type": "stream",
     "text": [
      "```jsonl\n",
      "{\"taxYear\": \"110年度\", \"IssuingAuthority\": \"財政部北區國稅局板橋分局\", \"taxpayerName\": \"徐孟伶\", \"taxpayerID\": \"H222398161\", \"reportDate\": \"111年06月07日\", \"totalIncome\": \"857,326\"}\n",
      "{\"taxYear\": \"110年度\", \"IssuingAuthority\": \"財政部北區國稅局板橋分局\", \"taxpayerName\": \"陳建良\", \"taxpayerID\": \"T122820496\", \"reportDate\": \"111年06月07日\", \"totalIncome\": \"386, 631\"}\n",
      "{\"taxYear\": \"110年度\", \"IssuingAuthority\": \"財政部北區國稅局板橋分局\", \"taxpayerName\": \"陳心瞳\", \"taxpayerID\": \"F233576482\", \"reportDate\": \"111年06月07日\", \"totalIncome\": \"0\"}\n",
      "{\"taxYear\": \"110年度\", \"IssuingAuthority\": \"財政部北區國稅局板橋分局\", \"taxpayerName\": \"陳方素雲\", \"taxpayerID\": \"T201699868\", \"reportDate\": \"111年06月07日\", \"totalIncome\": \"0\"}\n",
      "{\"taxYear\": \"110年度\", \"IssuingAuthority\": \"財政部北區國稅局板橋分局\", \"taxpayerName\": \"陳訢恩\", \"taxpayerID\": \"F133800696\", \"reportDate\": \"111年06月07日\", \"totalIncome\": \"0\"}\n",
      "```\n",
      "=============\n",
      "處理過後的 JSON : \n",
      "\n",
      " [{'taxYear': '110年度', 'IssuingAuthority': '財政部北區國稅局板橋分局', 'taxpayerName': '徐孟伶', 'taxpayerID': 'H222398161', 'reportDate': '111年06月07日', 'totalIncome': '857,326'}, {'taxYear': '110年度', 'IssuingAuthority': '財政部北區國稅局板橋分局', 'taxpayerName': '陳建良', 'taxpayerID': 'T122820496', 'reportDate': '111年06月07日', 'totalIncome': '386, 631'}, {'taxYear': '110年度', 'IssuingAuthority': '財政部北區國稅局板橋分局', 'taxpayerName': '陳心瞳', 'taxpayerID': 'F233576482', 'reportDate': '111年06月07日', 'totalIncome': '0'}, {'taxYear': '110年度', 'IssuingAuthority': '財政部北區國稅局板橋分局', 'taxpayerName': '陳方素雲', 'taxpayerID': 'T201699868', 'reportDate': '111年06月07日', 'totalIncome': '0'}, {'taxYear': '110年度', 'IssuingAuthority': '財政部北區國稅局板橋分局', 'taxpayerName': '陳訢恩', 'taxpayerID': 'F133800696', 'reportDate': '111年06月07日', 'totalIncome': '0'}]\n"
     ]
    }
   ],
   "source": [
    "etaxpay_pdf_file_uri = \"gs://nthurc-docai-poc/申請資料-4要件/所得/電子所得23.pdf\"\n",
    "etaxpay_pdf_file = Part.from_uri(etaxpay_pdf_file_uri, mime_type=\"application/pdf\")\n",
    "contents = [etaxpay_pdf_file, prompt]\n",
    "\n",
    "response = model.generate_content(contents)\n",
    "print(response.text)\n",
    "\n",
    "print(\"=============\")\n",
    "print(\"處理過後的 JSON : \\n\\n\",parse_json_from_text(response.text))"
   ]
  },
  {
   "cell_type": "markdown",
   "metadata": {},
   "source": [
    "## 2. 戶籍謄本相關資料提取\n",
    "- 跟上一個方法一樣，通過定義需要的欄位後,讓多模態模型進行視覺的資料提取並轉換成文字回傳"
   ]
  },
  {
   "cell_type": "markdown",
   "metadata": {},
   "source": [
    "#### 這部分需要釐清的部分 : \n",
    "- 戶籍謄本帶現戶全戶這個後綴，是需要提取還是判斷是否有這個欄位？\n",
    "- 提取這個現戶全戶的目的是什麼，為了區分戶口名簿嗎？\n",
    "- 是否只需要提取戶長資訊即可？"
   ]
  },
  {
   "cell_type": "code",
   "execution_count": 46,
   "metadata": {},
   "outputs": [
    {
     "name": "stdout",
     "output_type": "stream",
     "text": [
      "```json\n",
      "{\n",
      "  \"IssueDate\": \"111/07/04\",\n",
      "  \"IsFamilyRegisterExtract\": true,\n",
      "  \"householdId\": \"FR298901\",\n",
      "  \"householdAddress\": \"新北市永和區得和里022鄰中正路368巷20弄4號三樓\",\n",
      "  \"headOfHousehold\": {\n",
      "    \"name\": \"鍾照明\",\n",
      "    \"birthDate\": \"民國60年4月20日\",\n",
      "    \"PersonID\": \"V120407442\",\n",
      "    \"father\": \"范先開\",\n",
      "    \"mother\": \"鍾春桂\",\n",
      "    \"note\": \"原住台東縣台東市建業里5鄰西昌街242號鍾春桂戶內民國84年6月17日遷入。民國86年3月29日與陳雪如結婚民國86年4月7日申登。民國94年3月16日註記原住民民族別。原住臺北市大同區延平里14鄰重慶北路二段114巷11號五樓陳宗隆戶內民國97年9月26日遷入登記\"\n",
      "  }\n",
      "}\n",
      "```\n"
     ]
    }
   ],
   "source": [
    "import vertexai\n",
    "from dotenv import load_dotenv\n",
    "from vertexai.generative_models import GenerativeModel, Part\n",
    "\n",
    "project_id = \"nthurc-aisearch-202406\"\n",
    "\n",
    "load_dotenv()\n",
    "vertexai.init(project=project_id, location=\"us-central1\")\n",
    "\n",
    "model = GenerativeModel(\"gemini-1.5-flash-001\")\n",
    "\n",
    "json_format = '''{\n",
    "  \"IssueDate\" : 取得此 PDF 中[列印日期/時間]中的日期部分,\n",
    "  \"IsFamilyRegisterExtract\" :  判斷[戶籍謄本]後是否帶有(現戶全戶)，如果有返回 True, 否則返回 False, 如果前綴是戶口名則輸出 None,\n",
    "  \"householdId\" : 取得此 PDF 中的[戶號],\n",
    "  \"householdAddress\" : 取得此 PDF 中的[戶籍地址],\n",
    "  \"headOfHousehold\" : 判斷此 PDF 中[戶長]相關資訊並組合成一個嵌套的 JSON {\n",
    "    \"name\" : 取得此戶長的姓名,\n",
    "    \"birthDate\" : 取得此戶長的出生日期,\n",
    "    \"PersonID\" : 取得此戶長的身份證字號,\n",
    "    \"father\" : 取得此戶長的父親姓名,\n",
    "    \"mother\" : 取得此戶長的母親姓名,\n",
    "    \"note\" : 取得此戶長的[記事]內所有紀錄的資訊\n",
    "  }\n",
    "}'''\n",
    "\n",
    "\n",
    "prompt = f\"\"\"\n",
    "You are now a professional PDF document extractor. I will provide you with a PDF of a household registration book or household registration transcript provided by the Taiwan government. You will extract the specified information from the PDF to JSON and then return it to me. I will clearly define the content I need, and you will extract the value and return it based on the content in the PDF.\n",
    "```json format : {json_format}```\n",
    "Please carefully review the content of each page of the PDF file and extract the information to generate the corresponding JSON response. The value can accept output in Traditional Chinese. Think carefully before outputting and then return the conclusion. Your answer is very important to my career.\n",
    "\n",
    "JSON :\n",
    "\"\"\"\n",
    "\n",
    "FamilyRegisterExtract_pdf_file_uri = \"gs://nthurc-docai-poc/申請資料-4要件/戶籍/戶謄13.pdf\"\n",
    "FamilyRegisterExtract_pdf_file = Part.from_uri(FamilyRegisterExtract_pdf_file_uri, mime_type=\"application/pdf\")\n",
    "contents = [FamilyRegisterExtract_pdf_file, prompt]\n",
    "\n",
    "response = model.generate_content(contents)\n",
    "print(response.text)"
   ]
  },
  {
   "cell_type": "markdown",
   "metadata": {},
   "source": [
    "### 戶口名簿測試"
   ]
  },
  {
   "cell_type": "code",
   "execution_count": 47,
   "metadata": {},
   "outputs": [
    {
     "name": "stdout",
     "output_type": "stream",
     "text": [
      "```json\n",
      "{\n",
      "  \"IssueDate\": \"111/07/06\",\n",
      "  \"IsFamilyRegisterExtract\": True,\n",
      "  \"householdId\": \"S5641954\",\n",
      "  \"householdAddress\": \"新北市樹林區中山里025鄰中山路三段175號十一樓之5\",\n",
      "  \"headOfHousehold\": {\n",
      "    \"name\": \"黃志禾\",\n",
      "    \"birthDate\": \"民國70年3月23日\",\n",
      "    \"PersonID\": \"E122398826\",\n",
      "    \"father\": \"黃明俊\",\n",
      "    \"mother\": \"莊偉琍\",\n",
      "    \"note\": \"原住高雄縣鳳山市文山里21鄰文中街62巷1弄23之3號黃明俊戶內民國84年5月9日遷入。民85年3月5日憑通報註記失蹤人口案號E05426。民國85年5月30日撤銷失蹤民國85年6月29日登記。原住高雄市鼓山區麗興里10鄰捷興二街7之2號楊建治戶內民國86年10月14田遷人。民國94年2月26日與陳念慈結婚民國94年3月2日車登。長男黃婕瑞統一編號S126129131民國99年3月26日出生(S1)。民國102年5月20日與陳念慈兩願離婚。原登記母姓名莊淑洪因母改名民國107年4月23日變更民國107年4月23日經臺北市士林區戶政事務所逕為變更登記。民國109年4月8日行使負擔未成年子女黃葳琦權利義務民國109年4月28日申登·民國109年4月8日行使負擔未成年子女黃婕瑞權利義務民國109年4月28日申登。\"\n",
      "  }\n",
      "}\n",
      "```\n"
     ]
    }
   ],
   "source": [
    "HouseholdRegistry_file_uri = \"gs://nthurc-docai-poc/申請資料-4要件/戶籍/戶口7.pdf\"\n",
    "HouseholdRegistry_file = Part.from_uri(HouseholdRegistry_file_uri, mime_type=\"application/pdf\")\n",
    "contents = [HouseholdRegistry_file, prompt]\n",
    "\n",
    "response = model.generate_content(contents)\n",
    "print(response.text)"
   ]
  },
  {
   "cell_type": "markdown",
   "metadata": {},
   "source": [
    "## 3. 財產查詢清單"
   ]
  },
  {
   "cell_type": "markdown",
   "metadata": {},
   "source": [
    "#### 目前需要釐清的部分：\n",
    "- 財產中只有土地需要被紀錄嗎？是需要被紀錄是否持有還是有其他資訊也需要讀取到？\n",
    "- 財產中如果有房產資訊，是否需要紀錄房產的資訊？"
   ]
  },
  {
   "cell_type": "code",
   "execution_count": 8,
   "metadata": {},
   "outputs": [
    {
     "name": "stdout",
     "output_type": "stream",
     "text": [
      "```jsonl\n",
      "{\"IssuingAuthority\": \"財政部北區國稅局板橋分局\", \"AssetName\": \"廖庭霙\", \"AssetID\": \"Y220260353\", \"HasLand\": false}\n",
      "{\"IssuingAuthority\": \"財政部北區國稅局板橋分局\", \"AssetName\": \"廖欽日\", \"AssetID\": \"A103299724\", \"HasLand\": false}\n",
      "{\"IssuingAuthority\": \"財政部北區國稅局板橋分局\", \"AssetName\": \"陳宣卉\", \"AssetID\": \"F228511773\", \"HasLand\": false}\n",
      "{\"IssuingAuthority\": \"財政部北區國稅局板橋分局\", \"AssetName\": \"廖楊金魚\", \"AssetID\": \"A203144271\", \"HasLand\": false}\n",
      "```\n"
     ]
    }
   ],
   "source": [
    "import vertexai\n",
    "from dotenv import load_dotenv\n",
    "from vertexai.generative_models import GenerativeModel, Part\n",
    "\n",
    "project_id = \"nthurc-aisearch-202406\"\n",
    "\n",
    "load_dotenv()\n",
    "vertexai.init(project=project_id, location=\"us-central1\")\n",
    "\n",
    "model = GenerativeModel(\"gemini-1.5-flash-001\")\n",
    "\n",
    "json_format = '''{\n",
    "  \"IssuingAuthority\": 提取此所得稅[核發單位]文字資訊放於此欄位,\n",
    "  \"AssetName\": 提取[所得人姓名],\n",
    "  \"AssetID\": 提取所得人[統一編號]，位於文檔中部偏右，是所得人的唯一識別碼,\n",
    "  \"HasLand\" : 如果財產列表中有土地相關的財產，請返回 True, 否則返回 False\n",
    "}'''\n",
    "\n",
    "\n",
    "prompt = f\"\"\"\n",
    "You are now a professional PDF document extractor. I will provide you with a PDF of a Asset Inquiry List provided by the Taiwan government. You will extract the specified information from the PDF to JSONL and then return it to me. I will clearly define the content I need, and you will extract the value and return it based on the content in the PDF.\n",
    "```json format : {json_format}```\n",
    "Please carefully review the content of each page of the PDF file and extract the information to generate the corresponding JSON response. The value can accept output in Traditional Chinese. Think carefully before outputting and then return the conclusion. Your answer is very important to my career.\n",
    "\n",
    "JSONL :\n",
    "\"\"\"\n",
    "\n",
    "AssetInquiryList_pdf_file_uri = \"gs://nthurc-docai-poc/申請資料-4要件/財產/財產22.pdf\"\n",
    "AssetInquiryList_pdf_file = Part.from_uri(AssetInquiryList_pdf_file_uri, mime_type=\"application/pdf\")\n",
    "contents = [AssetInquiryList_pdf_file, prompt]\n",
    "\n",
    "response = model.generate_content(contents)\n",
    "print(response.text)"
   ]
  },
  {
   "cell_type": "markdown",
   "metadata": {},
   "source": [
    "## 4. 社宅申請表\n",
    "#### 需要討論的問題\n",
    "- 手寫文件、是否要通過\n",
    "- 是否只需要基本資訊 : 如申請人基本資料、申請項目等相關資訊\n",
    "- 是否只需要他勾選了什麼的資訊即可，為勾選的則留空白 "
   ]
  },
  {
   "cell_type": "code",
   "execution_count": 21,
   "metadata": {},
   "outputs": [
    {
     "name": "stdout",
     "output_type": "stream",
     "text": [
      "```json\n",
      "{\"receiveDate\": \"111.7.16\", \"receiveNumber\": \"YHC0100\", \"applicantName\": \"段榮昌\", \"applicationDate\": \"111年7月16日\", \"applicantBasics\": {\"ApplicantName\": \"段榮昌\", \"Gender\": \"男\", \"DateOfBirth\": \"70年12月7日\", \"MaritalStatus\": \"已婚\", \"IDNumber\": \"F125437447\", \"HouseholdRegistrationNumber\": \"FOA37QF4\", \"ContactPhone\": \"(02)22183748\", \"MobilePhone\": \"0905211535\", \"Email\": \"f7447kim0@yahoo.com.tw\", \"RegisteredAddress\": \"新北市(縣)中和區連坊里(村)18鄰連城路(街)段171巷弄30號7樓之\", \"MailingAddress\": \"同上\", \"EmergencyContact\": \"林雅甄\", \"EmergencyContactPhone\": \"0911590660\"}, \"applicationItems\": {\"ApplicantHousingType\": \"二房\", \"ApplicantLocation\": [\"板橋永翠\"], \"HouseholdType\": [\"一般青年戶\"], \"PriorityGroup\": [\"中低收入戶\"], \"DisabilityStatus\": null, \"SingleParentFamily\": null, \"ViolenceVictim\": null, \"DisasterVictim\": null, \"ElderlyStatus\": null, \"IndigenousStatus\": null, \"OverseasChineseStatus\": null, \"EnvironmentallyDisplacedPerson\": null}, \"familyMembers\": {\"familyMember\": [{\"FamilyMemberName\": \"段榮昌\", \"IDNumber\": \"F125437447\", \"Relationship\": \"本人\", \"AnnualIncome\": \"825325\"}, {\"FamilyMemberName\": \"林雅甄\", \"IDNumber\": \"F224858766\", \"Relationship\": \"妻\", \"AnnualIncome\": \"3078\"}, {\"FamilyMemberName\": \"段允澄\", \"IDNumber\": \"F135222029\", \"Relationship\": \"兒子\", \"AnnualIncome\": \"0\"}], \"TotalFamilyIncome\": \"1133/40\", \"AverageMonthlyIncome\": \"31476\"}}\n",
      "```\n"
     ]
    }
   ],
   "source": [
    "import vertexai\n",
    "from dotenv import load_dotenv\n",
    "from vertexai.generative_models import GenerativeModel, Part\n",
    "\n",
    "project_id = \"nthurc-aisearch-202406\"\n",
    "\n",
    "load_dotenv()\n",
    "vertexai.init(project=project_id, location=\"us-central1\")\n",
    "\n",
    "model = GenerativeModel(\"gemini-1.5-flash-001\")\n",
    "\n",
    "json_format = '''{\n",
    "    \"receiveDate\" : 提取右上角[收件日期]欄位的手寫日期,\n",
    "    \"receiveNumber\" : 提取右上角[收件編號]欄位的手寫編號,\n",
    "    \"applicantName\": 提取表格上方中間申請人姓名的手寫內容，位於「本人」後面,\n",
    "    \"applicationDate\": 提取表格中間右側[申請日期]欄位的手寫日期,\n",
    "    \"applicantBasics\" : 一、申請人基本資料表{\n",
    "        \"ApplicantName\": 提取[申請人姓名]欄位的手寫內容，位於表格左上角,\n",
    "        \"Gender\": 提取性別欄位的勾選狀態，男/女，位於姓名欄位右側,\n",
    "        \"DateOfBirth\": 提取[出生年月日]欄位的手寫內容，格式為民國年/月/日，位於性別欄位右側,\n",
    "        \"MaritalStatus\": 提取婚姻欄位的勾選狀態，已婚/未婚，位於出生年月日欄位右側,\n",
    "        \"IDNumber\": \"提取[身分證統一編號]欄位的手寫內容，位於表格第二行左側\",\n",
    "        \"HouseholdRegistrationNumber\": \"提取[戶口名簿戶號]欄位的手寫內容，位於表格第二行右側\",\n",
    "        \"ContactPhone\": \"提取[聯絡電話]欄位的手寫內容，位於表格第三行左側\",\n",
    "        \"MobilePhone\": \"提取[行動電話]欄位的手寫內容，位於表格第三行右側\",\n",
    "        \"Email\": \"提取[電子郵件信箱]欄位的手寫內容，位於表格第四行\",\n",
    "        \"RegisteredAddress\": \"提取[戶籍地址]欄位的手寫內容，包括郵遞區號、縣市、鄉鎮市區等信息，位於表格第五行\",\n",
    "        \"MailingAddress\": \"提取[通訊地址]欄位的勾選狀態（同上）和可能的手寫內容，位於表格第六行\",\n",
    "        \"EmergencyContact\": \"提取[緊急聯絡人]欄位的手寫內容，位於表格最後一行左側\",\n",
    "        \"EmergencyContactPhone\": \"提取緊急聯絡人的[行動電話]欄位的手寫內容，位於表格最後一行右側\"\n",
    "        },\n",
    "    \"applicationItems\": 二、申請項目表格{\n",
    "        \"ApplicantHousingType\": \"提取[申請房型]欄位的勾選狀態，位於表格左上方，包括一房/套房、二房、三房等選項\",\n",
    "        \"ApplicantLocation\": \"提取[申請社區]欄位的勾選狀態(可複選，以列表呈現)，位於表格右上方，包括永和中正橋、板橋永翠等選項\",\n",
    "        \"HouseholdType\": \"提取[一般戶]欄位下方的勾選狀態(可複選，以列表呈現)，位於表格中間偏左，包括一般青年戶、優先戶等選項\",\n",
    "        \"PriorityGroup\": \"提取[優先戶]欄位下方的勾選狀態(可複選，以列表呈現)，位於表格下半部分，包括低收入戶、中低收入戶、特殊境遇家庭等選項\",\n",
    "        \"DisabilityStatus\": \"提取[身心障礙者]欄位的勾選狀態，位於表格左下方\",\n",
    "        \"SingleParentFamily\": \"提取[單親家庭]欄位的勾選狀態，位於表格左下方\",\n",
    "        \"ViolenceVictim\": \"提取[家庭暴力或性侵害受害者及其子女]欄位的勾選狀態，位於表格左下方\",\n",
    "        \"DisasterVictim\": \"提取[重大災害災民]欄位的勾選狀態，位於表格中下方\",\n",
    "        \"ElderlyStatus\": \"提取[老人]欄位下方的勾選狀態，位於表格右下方，包括65歲以上、75歲以上等選項\",\n",
    "        \"IndigenousStatus\": \"提取[原住民]欄位的勾選狀態，位於表格右下方\",\n",
    "        \"OverseasChineseStatus\": \"提取[僑胞]欄位的勾選狀態，位於表格右下方\",\n",
    "        \"EnvironmentallyDisplacedPerson\": \"提取[因環境災害或其他原因遷居者]欄位的勾選狀態，位於表格最下方\",\n",
    "    },\n",
    "    \"familyMembers\":三、家庭成員資料{\n",
    "        \"familyMember\": {\n",
    "            \"FamilyMemberName\": 提取所有該家庭的成員，並順序輸出其姓名，並取得該人員詳細資料,\n",
    "            \"IDNumber\": \"提取[國民身分證統一編號/居留證統一證號]欄位的手寫內容，位於表格左側第二列\",\n",
    "            \"Relationship\": \"提取[稱謂]欄位的手寫內容，位於表格右側第三列\",\n",
    "            \"AnnualIncome\": \"提取[最近一年所得]欄位的手寫內容，位於表格最右側一列\",\n",
    "        },\n",
    "        \"TotalFamilyIncome\": \"提取[家戶最近一年總所得合計]欄位的手寫內容，位於表格底部倒數第二行\",\n",
    "        \"AverageMonthlyIncome\": \"提取[平均每人每月所得]欄位的手寫內容，位於表格底部最後一行\"\n",
    "    }\n",
    "}'''\n",
    "\n",
    "\n",
    "prompt = f\"\"\"\n",
    "You are now a professional PDF document extractor. I will provide you with a PDF of a Asset Inquiry List provided by the Taiwan government. You will extract the specified information from the PDF to JSONL and then return it to me. I will clearly define the content I need, and you will extract the value and return it based on the content in the PDF.\n",
    "```json format : {json_format}```\n",
    "Please carefully review the content of each page of the PDF file and extract the information to generate the corresponding JSON response. The value can accept output in Traditional Chinese. Think carefully before outputting and then return the conclusion. Your answer is very important to my career.\n",
    "\n",
    "JSONL :\n",
    "\"\"\"\n",
    "\n",
    "AssetInquiryList_pdf_file_uri = \"gs://nthurc-docai-poc/申請資料-4要件/申請書/申請書2.pdf\"\n",
    "AssetInquiryList_pdf_file = Part.from_uri(AssetInquiryList_pdf_file_uri, mime_type=\"application/pdf\")\n",
    "contents = [AssetInquiryList_pdf_file, prompt]\n",
    "\n",
    "response = model.generate_content(contents)\n",
    "print(response.text)"
   ]
  },
  {
   "cell_type": "code",
   "execution_count": null,
   "metadata": {},
   "outputs": [],
   "source": []
  }
 ],
 "metadata": {
  "kernelspec": {
   "display_name": "GooglePoCEnv",
   "language": "python",
   "name": "python3"
  },
  "language_info": {
   "codemirror_mode": {
    "name": "ipython",
    "version": 3
   },
   "file_extension": ".py",
   "mimetype": "text/x-python",
   "name": "python",
   "nbconvert_exporter": "python",
   "pygments_lexer": "ipython3",
   "version": "3.10.14"
  }
 },
 "nbformat": 4,
 "nbformat_minor": 2
}
