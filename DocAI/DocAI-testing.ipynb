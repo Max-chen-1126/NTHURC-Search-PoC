{
 "cells": [
  {
   "cell_type": "markdown",
   "metadata": {},
   "source": [
    "# 測試 DocAI 以及多模態模型 + OCR 的使用："
   ]
  },
  {
   "cell_type": "code",
   "execution_count": 1,
   "metadata": {},
   "outputs": [
    {
     "ename": "AttributeError",
     "evalue": "'str' object has no attribute 'data'",
     "output_type": "error",
     "traceback": [
      "\u001b[0;31m---------------------------------------------------------------------------\u001b[0m",
      "\u001b[0;31mAttributeError\u001b[0m                            Traceback (most recent call last)",
      "Cell \u001b[0;32mIn[1], line 17\u001b[0m\n\u001b[1;32m     13\u001b[0m prompt \u001b[38;5;241m=\u001b[39m \u001b[38;5;124m\"\"\"\u001b[39m\n\u001b[1;32m     14\u001b[0m \u001b[38;5;124mProvide a description of the image.\u001b[39m\n\u001b[1;32m     15\u001b[0m \u001b[38;5;124m\"\"\"\u001b[39m\n\u001b[1;32m     16\u001b[0m image_path \u001b[38;5;241m=\u001b[39m \u001b[38;5;124m'\u001b[39m\u001b[38;5;124m/Users/mai/Desktop/GitHub-Repos/NTHURC-Search-PoC/DocAI/Doc/所得1.pdf\u001b[39m\u001b[38;5;124m'\u001b[39m\n\u001b[0;32m---> 17\u001b[0m image_file \u001b[38;5;241m=\u001b[39m \u001b[43mPart\u001b[49m\u001b[38;5;241;43m.\u001b[39;49m\u001b[43mfrom_image\u001b[49m\u001b[43m(\u001b[49m\u001b[43mimage_path\u001b[49m\u001b[43m)\u001b[49m\n\u001b[1;32m     19\u001b[0m contents \u001b[38;5;241m=\u001b[39m [image_file, prompt]\n\u001b[1;32m     21\u001b[0m response \u001b[38;5;241m=\u001b[39m model\u001b[38;5;241m.\u001b[39mgenerate_content(contents)\n",
      "File \u001b[0;32m~/miniforge3/envs/GooglePoCEnv/lib/python3.10/site-packages/vertexai/generative_models/_generative_models.py:1899\u001b[0m, in \u001b[0;36mPart.from_image\u001b[0;34m(image)\u001b[0m\n\u001b[1;32m   1897\u001b[0m \u001b[38;5;129m@staticmethod\u001b[39m\n\u001b[1;32m   1898\u001b[0m \u001b[38;5;28;01mdef\u001b[39;00m \u001b[38;5;21mfrom_image\u001b[39m(image: \u001b[38;5;124m\"\u001b[39m\u001b[38;5;124mImage\u001b[39m\u001b[38;5;124m\"\u001b[39m) \u001b[38;5;241m-\u001b[39m\u001b[38;5;241m>\u001b[39m \u001b[38;5;124m\"\u001b[39m\u001b[38;5;124mPart\u001b[39m\u001b[38;5;124m\"\u001b[39m:\n\u001b[0;32m-> 1899\u001b[0m     \u001b[38;5;28;01mreturn\u001b[39;00m Part\u001b[38;5;241m.\u001b[39mfrom_data(data\u001b[38;5;241m=\u001b[39m\u001b[43mimage\u001b[49m\u001b[38;5;241;43m.\u001b[39;49m\u001b[43mdata\u001b[49m, mime_type\u001b[38;5;241m=\u001b[39mimage\u001b[38;5;241m.\u001b[39m_mime_type)\n",
      "\u001b[0;31mAttributeError\u001b[0m: 'str' object has no attribute 'data'"
     ]
    }
   ],
   "source": [
    "from dotenv import load_dotenv\n",
    "import vertexai\n",
    "from vertexai.generative_models import GenerativeModel, Part\n",
    "\n",
    "load_dotenv(dotenv_path=\"/Users/mai/Desktop/GitHub-Repos/NTHURC-Search-PoC/.env\")\n",
    "\n",
    "project_id = \"nthurc-aisearch-202406\"\n",
    "\n",
    "vertexai.init(project=project_id, location=\"us-central1\")\n",
    "\n",
    "model = GenerativeModel(\"gemini-1.5-flash-001\")\n",
    "\n",
    "prompt = \"\"\"\n",
    "Provide a description of the image.\n",
    "\"\"\"\n",
    "pdf_path = '/Users/mai/Desktop/GitHub-Repos/NTHURC-Search-PoC/DocAI/Doc/所得1.pdf'\n",
    "image_file = Part.from_data(pdf_path, mime_type='application/pdf')\n",
    "\n",
    "contents = [image_file, prompt]\n",
    "\n",
    "response = model.generate_content(contents)\n",
    "print(response.text)"
   ]
  }
 ],
 "metadata": {
  "kernelspec": {
   "display_name": "GooglePoCEnv",
   "language": "python",
   "name": "python3"
  },
  "language_info": {
   "codemirror_mode": {
    "name": "ipython",
    "version": 3
   },
   "file_extension": ".py",
   "mimetype": "text/x-python",
   "name": "python",
   "nbconvert_exporter": "python",
   "pygments_lexer": "ipython3",
   "version": "3.10.14"
  }
 },
 "nbformat": 4,
 "nbformat_minor": 2
}
